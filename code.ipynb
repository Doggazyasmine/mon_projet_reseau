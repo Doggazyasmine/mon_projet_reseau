{
  "nbformat": 4,
  "nbformat_minor": 0,
  "metadata": {
    "colab": {
      "provenance": [],
      "authorship_tag": "ABX9TyMpwuIN+SVptfKOmbQxrJP4",
      "include_colab_link": true
    },
    "kernelspec": {
      "name": "python3",
      "display_name": "Python 3"
    },
    "language_info": {
      "name": "python"
    }
  },
  "cells": [
    {
      "cell_type": "markdown",
      "metadata": {
        "id": "view-in-github",
        "colab_type": "text"
      },
      "source": [
        "<a href=\"https://colab.research.google.com/github/Doggazyasmine/mon_projet_reseau/blob/main/code.ipynb\" target=\"_parent\"><img src=\"https://colab.research.google.com/assets/colab-badge.svg\" alt=\"Open In Colab\"/></a>"
      ]
    },
    {
      "cell_type": "code",
      "source": [
        "pip install networkx matplotlib cdlib\n"
      ],
      "metadata": {
        "colab": {
          "base_uri": "https://localhost:8080/"
        },
        "id": "UcPFXdKbtJjc",
        "outputId": "9200b929-6bca-48e1-983f-46cb6dfd1e3f"
      },
      "execution_count": 2,
      "outputs": [
        {
          "output_type": "stream",
          "name": "stdout",
          "text": [
            "Requirement already satisfied: networkx in /usr/local/lib/python3.11/dist-packages (3.4.2)\n",
            "Requirement already satisfied: matplotlib in /usr/local/lib/python3.11/dist-packages (3.10.0)\n",
            "Collecting cdlib\n",
            "  Downloading cdlib-0.4.0-py3-none-any.whl.metadata (8.8 kB)\n",
            "Requirement already satisfied: contourpy>=1.0.1 in /usr/local/lib/python3.11/dist-packages (from matplotlib) (1.3.2)\n",
            "Requirement already satisfied: cycler>=0.10 in /usr/local/lib/python3.11/dist-packages (from matplotlib) (0.12.1)\n",
            "Requirement already satisfied: fonttools>=4.22.0 in /usr/local/lib/python3.11/dist-packages (from matplotlib) (4.57.0)\n",
            "Requirement already satisfied: kiwisolver>=1.3.1 in /usr/local/lib/python3.11/dist-packages (from matplotlib) (1.4.8)\n",
            "Requirement already satisfied: numpy>=1.23 in /usr/local/lib/python3.11/dist-packages (from matplotlib) (2.0.2)\n",
            "Requirement already satisfied: packaging>=20.0 in /usr/local/lib/python3.11/dist-packages (from matplotlib) (24.2)\n",
            "Requirement already satisfied: pillow>=8 in /usr/local/lib/python3.11/dist-packages (from matplotlib) (11.1.0)\n",
            "Requirement already satisfied: pyparsing>=2.3.1 in /usr/local/lib/python3.11/dist-packages (from matplotlib) (3.2.3)\n",
            "Requirement already satisfied: python-dateutil>=2.7 in /usr/local/lib/python3.11/dist-packages (from matplotlib) (2.8.2)\n",
            "Requirement already satisfied: scikit-learn in /usr/local/lib/python3.11/dist-packages (from cdlib) (1.6.1)\n",
            "Requirement already satisfied: tqdm in /usr/local/lib/python3.11/dist-packages (from cdlib) (4.67.1)\n",
            "Collecting demon (from cdlib)\n",
            "  Downloading demon-2.0.6-py3-none-any.whl.metadata (5.1 kB)\n",
            "Requirement already satisfied: python-louvain>=0.16 in /usr/local/lib/python3.11/dist-packages (from cdlib) (0.16)\n",
            "Requirement already satisfied: scipy>=1.10 in /usr/local/lib/python3.11/dist-packages (from cdlib) (1.14.1)\n",
            "Collecting pulp (from cdlib)\n",
            "  Downloading pulp-3.1.1-py3-none-any.whl.metadata (1.3 kB)\n",
            "Requirement already satisfied: seaborn in /usr/local/lib/python3.11/dist-packages (from cdlib) (0.13.2)\n",
            "Requirement already satisfied: pandas in /usr/local/lib/python3.11/dist-packages (from cdlib) (2.2.2)\n",
            "Collecting eva-lcd (from cdlib)\n",
            "  Downloading eva_lcd-0.1.1-py3-none-any.whl.metadata (731 bytes)\n",
            "Collecting bimlpa (from cdlib)\n",
            "  Downloading bimlpa-0.1.2-py3-none-any.whl.metadata (725 bytes)\n",
            "Collecting python-igraph>=0.10 (from cdlib)\n",
            "  Downloading python_igraph-0.11.8-py3-none-any.whl.metadata (2.8 kB)\n",
            "Collecting angelcommunity (from cdlib)\n",
            "  Downloading angelcommunity-2.0.0-py3-none-any.whl.metadata (4.0 kB)\n",
            "Requirement already satisfied: pooch in /usr/local/lib/python3.11/dist-packages (from cdlib) (1.8.2)\n",
            "Collecting dynetx (from cdlib)\n",
            "  Downloading dynetx-0.3.2-py3-none-any.whl.metadata (2.9 kB)\n",
            "Collecting thresholdclustering (from cdlib)\n",
            "  Downloading thresholdclustering-1.1-py3-none-any.whl.metadata (4.2 kB)\n",
            "Collecting python-Levenshtein (from cdlib)\n",
            "  Downloading python_levenshtein-0.27.1-py3-none-any.whl.metadata (3.7 kB)\n",
            "Requirement already satisfied: plotly in /usr/local/lib/python3.11/dist-packages (from cdlib) (5.24.1)\n",
            "Requirement already satisfied: six>=1.5 in /usr/local/lib/python3.11/dist-packages (from python-dateutil>=2.7->matplotlib) (1.17.0)\n",
            "Collecting igraph==0.11.8 (from python-igraph>=0.10->cdlib)\n",
            "  Downloading igraph-0.11.8-cp39-abi3-manylinux_2_17_x86_64.manylinux2014_x86_64.whl.metadata (3.8 kB)\n",
            "Collecting texttable>=1.6.2 (from igraph==0.11.8->python-igraph>=0.10->cdlib)\n",
            "  Downloading texttable-1.7.0-py2.py3-none-any.whl.metadata (9.8 kB)\n",
            "Requirement already satisfied: future in /usr/local/lib/python3.11/dist-packages (from angelcommunity->cdlib) (1.0.0)\n",
            "Requirement already satisfied: decorator in /usr/local/lib/python3.11/dist-packages (from dynetx->cdlib) (4.4.2)\n",
            "Requirement already satisfied: pytz>=2020.1 in /usr/local/lib/python3.11/dist-packages (from pandas->cdlib) (2025.2)\n",
            "Requirement already satisfied: tzdata>=2022.7 in /usr/local/lib/python3.11/dist-packages (from pandas->cdlib) (2025.2)\n",
            "Requirement already satisfied: tenacity>=6.2.0 in /usr/local/lib/python3.11/dist-packages (from plotly->cdlib) (9.1.2)\n",
            "Requirement already satisfied: platformdirs>=2.5.0 in /usr/local/lib/python3.11/dist-packages (from pooch->cdlib) (4.3.7)\n",
            "Requirement already satisfied: requests>=2.19.0 in /usr/local/lib/python3.11/dist-packages (from pooch->cdlib) (2.32.3)\n",
            "Collecting Levenshtein==0.27.1 (from python-Levenshtein->cdlib)\n",
            "  Downloading levenshtein-0.27.1-cp311-cp311-manylinux_2_17_x86_64.manylinux2014_x86_64.whl.metadata (3.6 kB)\n",
            "Collecting rapidfuzz<4.0.0,>=3.9.0 (from Levenshtein==0.27.1->python-Levenshtein->cdlib)\n",
            "  Downloading rapidfuzz-3.13.0-cp311-cp311-manylinux_2_17_x86_64.manylinux2014_x86_64.whl.metadata (12 kB)\n",
            "Requirement already satisfied: joblib>=1.2.0 in /usr/local/lib/python3.11/dist-packages (from scikit-learn->cdlib) (1.4.2)\n",
            "Requirement already satisfied: threadpoolctl>=3.1.0 in /usr/local/lib/python3.11/dist-packages (from scikit-learn->cdlib) (3.6.0)\n",
            "Requirement already satisfied: charset-normalizer<4,>=2 in /usr/local/lib/python3.11/dist-packages (from requests>=2.19.0->pooch->cdlib) (3.4.1)\n",
            "Requirement already satisfied: idna<4,>=2.5 in /usr/local/lib/python3.11/dist-packages (from requests>=2.19.0->pooch->cdlib) (3.10)\n",
            "Requirement already satisfied: urllib3<3,>=1.21.1 in /usr/local/lib/python3.11/dist-packages (from requests>=2.19.0->pooch->cdlib) (2.3.0)\n",
            "Requirement already satisfied: certifi>=2017.4.17 in /usr/local/lib/python3.11/dist-packages (from requests>=2.19.0->pooch->cdlib) (2025.1.31)\n",
            "Downloading cdlib-0.4.0-py3-none-any.whl (263 kB)\n",
            "\u001b[2K   \u001b[90m━━━━━━━━━━━━━━━━━━━━━━━━━━━━━━━━━━━━━━━━\u001b[0m \u001b[32m263.6/263.6 kB\u001b[0m \u001b[31m9.2 MB/s\u001b[0m eta \u001b[36m0:00:00\u001b[0m\n",
            "\u001b[?25hDownloading python_igraph-0.11.8-py3-none-any.whl (9.1 kB)\n",
            "Downloading igraph-0.11.8-cp39-abi3-manylinux_2_17_x86_64.manylinux2014_x86_64.whl (3.1 MB)\n",
            "\u001b[2K   \u001b[90m━━━━━━━━━━━━━━━━━━━━━━━━━━━━━━━━━━━━━━━━\u001b[0m \u001b[32m3.1/3.1 MB\u001b[0m \u001b[31m70.1 MB/s\u001b[0m eta \u001b[36m0:00:00\u001b[0m\n",
            "\u001b[?25hDownloading angelcommunity-2.0.0-py3-none-any.whl (10 kB)\n",
            "Downloading bimlpa-0.1.2-py3-none-any.whl (7.0 kB)\n",
            "Downloading demon-2.0.6-py3-none-any.whl (7.3 kB)\n",
            "Downloading dynetx-0.3.2-py3-none-any.whl (39 kB)\n",
            "Downloading eva_lcd-0.1.1-py3-none-any.whl (9.2 kB)\n",
            "Downloading pulp-3.1.1-py3-none-any.whl (16.4 MB)\n",
            "\u001b[2K   \u001b[90m━━━━━━━━━━━━━━━━━━━━━━━━━━━━━━━━━━━━━━━━\u001b[0m \u001b[32m16.4/16.4 MB\u001b[0m \u001b[31m128.4 MB/s\u001b[0m eta \u001b[36m0:00:00\u001b[0m\n",
            "\u001b[?25hDownloading python_levenshtein-0.27.1-py3-none-any.whl (9.4 kB)\n",
            "Downloading levenshtein-0.27.1-cp311-cp311-manylinux_2_17_x86_64.manylinux2014_x86_64.whl (161 kB)\n",
            "\u001b[2K   \u001b[90m━━━━━━━━━━━━━━━━━━━━━━━━━━━━━━━━━━━━━━━━\u001b[0m \u001b[32m161.7/161.7 kB\u001b[0m \u001b[31m15.6 MB/s\u001b[0m eta \u001b[36m0:00:00\u001b[0m\n",
            "\u001b[?25hDownloading thresholdclustering-1.1-py3-none-any.whl (5.3 kB)\n",
            "Downloading rapidfuzz-3.13.0-cp311-cp311-manylinux_2_17_x86_64.manylinux2014_x86_64.whl (3.1 MB)\n",
            "\u001b[2K   \u001b[90m━━━━━━━━━━━━━━━━━━━━━━━━━━━━━━━━━━━━━━━━\u001b[0m \u001b[32m3.1/3.1 MB\u001b[0m \u001b[31m119.7 MB/s\u001b[0m eta \u001b[36m0:00:00\u001b[0m\n",
            "\u001b[?25hDownloading texttable-1.7.0-py2.py3-none-any.whl (10 kB)\n",
            "Installing collected packages: texttable, thresholdclustering, rapidfuzz, pulp, igraph, eva-lcd, dynetx, demon, python-igraph, Levenshtein, python-Levenshtein, bimlpa, angelcommunity, cdlib\n",
            "Successfully installed Levenshtein-0.27.1 angelcommunity-2.0.0 bimlpa-0.1.2 cdlib-0.4.0 demon-2.0.6 dynetx-0.3.2 eva-lcd-0.1.1 igraph-0.11.8 pulp-3.1.1 python-Levenshtein-0.27.1 python-igraph-0.11.8 rapidfuzz-3.13.0 texttable-1.7.0 thresholdclustering-1.1\n"
          ]
        }
      ]
    },
    {
      "cell_type": "code",
      "execution_count": null,
      "metadata": {
        "colab": {
          "base_uri": "https://localhost:8080/",
          "height": 877
        },
        "id": "EXZk_cg5s4Z9",
        "outputId": "23593628-876a-45eb-a327-eb5933542f98"
      },
      "outputs": [
        {
          "output_type": "stream",
          "name": "stdout",
          "text": [
            "Note: to be able to use all crisp methods, you need to install some additional packages:  {'leidenalg', 'graph_tool', 'bayanpy', 'infomap'}\n",
            "Note: to be able to use all crisp methods, you need to install some additional packages:  {'pyclustering', 'ASLPAw'}\n",
            "Note: to be able to use all crisp methods, you need to install some additional packages:  {'leidenalg', 'infomap'}\n",
            "Téléchargement du dataset...\n",
            "Nombre de nœuds : 35778\n",
            "Nombre d'arêtes : 124331\n"
          ]
        },
        {
          "output_type": "display_data",
          "data": {
            "text/plain": [
              "<Figure size 1000x600 with 1 Axes>"
            ],
            "image/png": "[encoded data removed]"
          },
          "metadata": {}
        },
        {
          "output_type": "stream",
          "name": "stdout",
          "text": [
            "Nombre de composants connectés : 498\n",
            "Taille du plus grand composant : 34671 nœuds\n",
            "Clustering moyen : 0.1862\n",
            "Densité du graphe : 0.0002\n",
            "Top 5 des nœuds par centralité :\n",
            "  askreddit : 0.0674\n",
            "  iama : 0.0530\n",
            "  subredditdrama : 0.0461\n",
            "  writingprompts : 0.0301\n",
            "  outoftheloop : 0.0284\n",
            "Louvain : 54 communautés trouvées\n",
            "Label Propagation : 1199 communautés trouvées\n"
          ]
        }
      ],
      "source": [
        "import networkx as nx\n",
        "import matplotlib.pyplot as plt\n",
        "from cdlib import algorithms\n",
        "import requests\n",
        "from io import StringIO\n",
        "\n",
        "# === Étape 1 : Télécharger et charger le graphe depuis l'URL ===\n",
        "url = \"https://snap.stanford.edu/data/soc-redditHyperlinks-body.tsv\"\n",
        "\n",
        "print(\"Téléchargement du dataset...\")\n",
        "response = requests.get(url)\n",
        "data = StringIO(response.text)\n",
        "\n",
        "G = nx.Graph()\n",
        "for line in data:\n",
        "    if line.startswith(\"#\"):\n",
        "        continue  # Ignorer les commentaires\n",
        "    parts = line.strip().split(\"\\t\")\n",
        "    if len(parts) >= 2:\n",
        "        source = parts[0]\n",
        "        target = parts[1]\n",
        "        G.add_edge(source, target)\n",
        "\n",
        "print(f\"Nombre de nœuds : {G.number_of_nodes()}\")\n",
        "print(f\"Nombre d'arêtes : {G.number_of_edges()}\")\n",
        "\n",
        "# === Étape 2 : Analyse du réseau ===\n",
        "\n",
        "# a) Distribution des degrés\n",
        "degrees = [deg for _, deg in G.degree()]\n",
        "plt.figure(figsize=(10, 6))\n",
        "plt.hist(degrees, bins=50, color='lightcoral', edgecolor='black')\n",
        "plt.title(\"Distribution des degrés\")\n",
        "plt.xlabel(\"Degré\")\n",
        "plt.ylabel(\"Nombre de nœuds\")\n",
        "plt.grid(True)\n",
        "plt.show()\n",
        "\n",
        "# b) Composants connectés\n",
        "components = list(nx.connected_components(G))\n",
        "print(f\"Nombre de composants connectés : {len(components)}\")\n",
        "\n",
        "# Travailler sur le plus grand composant\n",
        "largest_comp = G.subgraph(max(components, key=len)).copy()\n",
        "print(f\"Taille du plus grand composant : {largest_comp.number_of_nodes()} nœuds\")\n",
        "\n",
        "# c) Clustering & densité\n",
        "clust = nx.average_clustering(largest_comp)\n",
        "dens = nx.density(largest_comp)\n",
        "print(f\"Clustering moyen : {clust:.4f}\")\n",
        "print(f\"Densité du graphe : {dens:.4f}\")\n",
        "\n",
        "# d) Centralité\n",
        "centrality = nx.degree_centrality(largest_comp)\n",
        "top_nodes = sorted(centrality.items(), key=lambda x: x[1], reverse=True)[:5]\n",
        "print(\"Top 5 des nœuds par centralité :\")\n",
        "for node, cent in top_nodes:\n",
        "    print(f\"  {node} : {cent:.4f}\")\n",
        "\n",
        "# === Étape 3 : Détection des communautés ===\n",
        "\n",
        "# Louvain\n",
        "comm_louvain = algorithms.louvain(largest_comp)\n",
        "print(f\"Louvain : {len(comm_louvain.communities)} communautés trouvées\")\n",
        "\n",
        "# Label Propagation\n",
        "comm_label = algorithms.label_propagation(largest_comp)\n",
        "print(f\"Label Propagation : {len(comm_label.communities)} communautés trouvées\")\n",
        "\n",
        "# K-Clique (k=4)\n",
        "comm_kclique = algorithms.kclique(largest_comp, k=4)\n",
        "print(f\"K-Clique (k=4) : {len(comm_kclique.communities)} communautés trouvées\")\n"
      ]
    }
  ]
}